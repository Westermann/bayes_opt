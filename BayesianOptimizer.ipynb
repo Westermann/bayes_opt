{
 "cells": [
  {
   "cell_type": "code",
   "execution_count": 52,
   "metadata": {},
   "outputs": [
    {
     "name": "stdout",
     "output_type": "stream",
     "text": [
      "The autoreload extension is already loaded. To reload it, use:\n",
      "  %reload_ext autoreload\n"
     ]
    }
   ],
   "source": [
    "%load_ext autoreload\n",
    "%autoreload 2\n",
    "import numpy as np\n",
    "from lib.SamplingOptimizer import SamplingOptimizer\n",
    "from lib.RangeOptimizer import RangeOptimizer"
   ]
  },
  {
   "cell_type": "code",
   "execution_count": 45,
   "metadata": {},
   "outputs": [],
   "source": [
    "so = SamplingOptimizer(np.array([\n",
    "    [1, 2, 5],\n",
    "    [1, 2, 10],\n",
    "    [2, 3, 10]\n",
    "]))"
   ]
  },
  {
   "cell_type": "code",
   "execution_count": 51,
   "metadata": {},
   "outputs": [
    {
     "data": {
      "text/plain": [
       "array([  2.,   3.,  10.])"
      ]
     },
     "execution_count": 51,
     "metadata": {},
     "output_type": "execute_result"
    }
   ],
   "source": [
    "so.suggest()"
   ]
  },
  {
   "cell_type": "code",
   "execution_count": 53,
   "metadata": {},
   "outputs": [],
   "source": [
    "ro = RangeOptimizer({\n",
    "    'eta': [0., 1.],\n",
    "    'max_depth': [2, 25],\n",
    "    'alpha': [0., 1.]\n",
    "})"
   ]
  },
  {
   "cell_type": "code",
   "execution_count": 55,
   "metadata": {},
   "outputs": [
    {
     "data": {
      "text/plain": [
       "[0.2584522311395371, 17, 0.10022174282934815]"
      ]
     },
     "execution_count": 55,
     "metadata": {},
     "output_type": "execute_result"
    }
   ],
   "source": [
    "ro.suggest()"
   ]
  },
  {
   "cell_type": "code",
   "execution_count": 5,
   "metadata": {},
   "outputs": [
    {
     "name": "stdout",
     "output_type": "stream",
     "text": [
      "Help on class RangeOptimizer in module lib.RangeOptimizer:\n",
      "\n",
      "class RangeOptimizer(lib.BayesianOptimizer.BayesianOptimizer)\n",
      " |  Method resolution order:\n",
      " |      RangeOptimizer\n",
      " |      lib.BayesianOptimizer.BayesianOptimizer\n",
      " |      builtins.object\n",
      " |  \n",
      " |  Methods defined here:\n",
      " |  \n",
      " |  suggest(self, return_dict=False)\n",
      " |      Optimizes the acquisition function over the\n",
      " |      currently estimates parameter landscape and\n",
      " |      returns the optimum value.\n",
      " |      Keyword arguements:\n",
      " |          return_dict:\n",
      " |              Boolean indicating wether to return the\n",
      " |              optimum value as a { <feature_name>: <value> }\n",
      " |              dict (if `True`) or as a vector (default)\n",
      " |  \n",
      " |  ----------------------------------------------------------------------\n",
      " |  Methods inherited from lib.BayesianOptimizer.BayesianOptimizer:\n",
      " |  \n",
      " |  __init__(self, feature_meta=None, feature_samples=None, init_observations=[], kernel=Matern(length_scale=1, nu=0.5))\n",
      " |      BayesianOptimizerSuperClass\n",
      " |      Keyword arguments:\n",
      " |          feature_meta:\n",
      " |              Dictionary of\n",
      " |              { <feature_name>: ( <lower_bound>, <upper_bound> ) }\n",
      " |              The bounds should be of the type enabling the values\n",
      " |              this feature can take. E.g. int if it is a discrete\n",
      " |              parameter/feature and float if it is continuous\n",
      " |          feature_samples:\n",
      " |              List of feature vectors (ignored if `feature_meta` supplied)\n",
      " |          init_observations:\n",
      " |              List of tuples of observation vectors with length\n",
      " |              `number_of_features + 1` where the last column is the\n",
      " |              target value\n",
      " |          kernel:\n",
      " |              A kernel function from sklearn.gaussian_process.kernel\n",
      " |              or equivalent. Default is `Matern(nu=.5)`\n",
      " |  \n",
      " |  step(self, features, target)\n",
      " |  \n",
      " |  update(self, features, target)\n",
      " |      Receives a feature vector and a target values\n",
      " |      and refits the gaussian process estimation for\n",
      " |      the parameter landscape. Returns the optimizer(self)\n",
      " |  \n",
      " |  ----------------------------------------------------------------------\n",
      " |  Data descriptors inherited from lib.BayesianOptimizer.BayesianOptimizer:\n",
      " |  \n",
      " |  __dict__\n",
      " |      dictionary for instance variables (if defined)\n",
      " |  \n",
      " |  __weakref__\n",
      " |      list of weak references to the object (if defined)\n",
      "\n"
     ]
    }
   ],
   "source": [
    "help(RangeOptimizer)"
   ]
  }
 ],
 "metadata": {
  "kernelspec": {
   "display_name": "Python 3",
   "language": "python",
   "name": "python3"
  }
 },
 "nbformat": 4,
 "nbformat_minor": 2
}
