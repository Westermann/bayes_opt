{
 "cells": [
  {
   "cell_type": "code",
   "execution_count": 6,
   "metadata": {},
   "outputs": [],
   "source": [
    "require('nnet')\n",
    "options(run.main=FALSE)\n",
    "source('./epsilon_greedy.R')\n",
    "source('./softmax.R')\n",
    "source('./upper_confidence_bound.R')"
   ]
  },
  {
   "cell_type": "code",
   "execution_count": 7,
   "metadata": {},
   "outputs": [],
   "source": [
    "plot.regrets <- function(epsilon, k, t){\n",
    "    cum.regrets <- data.frame(\n",
    "        'Epsilon-Greedy'=epsilon.greedy(k, c(rep(0.5-epsilon,k-1),0.5), t, epsilon=0.1)$cum.regret,\n",
    "        'Softmax'=softmax(k, c(rep(0.5-epsilon,k-1),0.5), t)$cum.regret,\n",
    "        'UCB1'=ucb1(k, c(rep(0.5-epsilon,k-1),0.5), t)$cum.regret)\n",
    "    matplot(cum.regrets, type='l', col=1:3, pch=1)\n",
    "    legend(\"topleft\", legend=colnames(cum.regrets), col=1:3, pch=1)\n",
    "    title(paste0('Epsilon: ',epsilon,' K: ',k,' T:',t), pch=1)\n",
    "}"
   ]
  },
  {
   "cell_type": "code",
   "execution_count": 33,
   "metadata": {},
   "outputs": [
    {
     "data": {
      "text/html": [
       "22.2459405940594"
      ],
      "text/latex": [
       "22.2459405940594"
      ],
      "text/markdown": [
       "22.2459405940594"
      ],
      "text/plain": [
       "[1] 22.24594"
      ]
     },
     "metadata": {},
     "output_type": "display_data"
    }
   ],
   "source": [
    "results = c()\n",
    "k=2\n",
    "t = 100\n",
    "epsilon = 0.1\n",
    "for (i in 1:100){\n",
    "    results = append(results,epsilon.greedy(k, c(rep(0.5-epsilon,k-1),0.5), t, epsilon=0.1)$cum.regret)\n",
    "    }\n",
    "\n",
    "mean(results)"
   ]
  },
  {
   "cell_type": "code",
   "execution_count": 34,
   "metadata": {},
   "outputs": [
    {
     "data": {
      "text/html": [
       "22.8921782178218"
      ],
      "text/latex": [
       "22.8921782178218"
      ],
      "text/markdown": [
       "22.8921782178218"
      ],
      "text/plain": [
       "[1] 22.89218"
      ]
     },
     "metadata": {},
     "output_type": "display_data"
    }
   ],
   "source": [
    "results = c()\n",
    "k=2\n",
    "t = 100\n",
    "epsilon = 0.1\n",
    "for (i in 1:100){\n",
    "    results = append(results,softmax(k, c(rep(0.5-epsilon,k-1),0.5), t)$cum.regret)\n",
    "    }\n",
    "\n",
    "mean(results)"
   ]
  },
  {
   "cell_type": "code",
   "execution_count": 36,
   "metadata": {},
   "outputs": [
    {
     "data": {
      "text/html": [
       "23.1954455445545"
      ],
      "text/latex": [
       "23.1954455445545"
      ],
      "text/markdown": [
       "23.1954455445545"
      ],
      "text/plain": [
       "[1] 23.19545"
      ]
     },
     "metadata": {},
     "output_type": "display_data"
    }
   ],
   "source": [
    "results = c()\n",
    "k=2\n",
    "t = 100\n",
    "epsilon = 0.1\n",
    "for (i in 1:100){\n",
    "    results = append(results,ucb1(k, c(rep(0.5-epsilon,k-1),0.5), t)$cum.regret)\n",
    "    }\n",
    "\n",
    "mean(results)"
   ]
  },
  {
   "cell_type": "code",
   "execution_count": null,
   "metadata": {
    "collapsed": true
   },
   "outputs": [],
   "source": []
  }
 ],
 "metadata": {
  "kernelspec": {
   "display_name": "R",
   "language": "R",
   "name": "ir"
  },
  "language_info": {
   "codemirror_mode": "r",
   "file_extension": ".r",
   "mimetype": "text/x-r-source",
   "name": "R",
   "pygments_lexer": "r",
   "version": "3.3.1"
  }
 },
 "nbformat": 4,
 "nbformat_minor": 2
}
